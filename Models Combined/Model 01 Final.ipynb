{
 "cells": [
  {
   "cell_type": "code",
   "execution_count": 56,
   "metadata": {},
   "outputs": [],
   "source": [
    "import random\n",
    "import numpy as np\n",
    "import pandas as pd"
   ]
  },
  {
   "cell_type": "code",
   "execution_count": 57,
   "metadata": {},
   "outputs": [],
   "source": [
    "def calculate_body_fat_percentage(bmi, age, gender):\n",
    "    gender_factor = 1 if gender == 'Male' else 0\n",
    "    \n",
    "    # Deurenberg Equation\n",
    "    body_fat_percentage = (1.20 * bmi) + (0.23 * age) - (10.8 * gender_factor) - 5.4\n",
    "    return body_fat_percentage"
   ]
  },
  {
   "cell_type": "code",
   "execution_count": 58,
   "metadata": {},
   "outputs": [],
   "source": [
    "def calculate_BMR(age, gender, weight_kg, height_m, activity_level):\n",
    "    # Calculating BMI\n",
    "    bmi = weight_kg / (height_m ** 2)\n",
    "\n",
    "    # Calculating Body Fat Percentage\n",
    "    body_fat_percentage = calculate_body_fat_percentage(bmi, age, gender)\n",
    "\n",
    "    # Calculating BMR using Harris Benedict Formula\n",
    "    if gender == 'Male':\n",
    "        bmr = 10 * weight_kg + 6.25 * (height_m * 100) - 5 * age + 5\n",
    "    else:\n",
    "        bmr = 10 * weight_kg + 6.25 * (height_m * 100) - 5 * age - 161\n",
    "\n",
    "    # Adjusting BMR for body composition\n",
    "    lbm = weight_kg * (1 - body_fat_percentage / 100)\n",
    "    lbm_factor = 1 + (max(lbm / weight_kg - 0.5, 0) * 0.1)\n",
    "    bmr *= lbm_factor\n",
    "\n",
    "    # Adjusting BMR based on Harris Benedict Formula\n",
    "    activity_multipliers = {\n",
    "        'Sedentary': 1.2,\n",
    "        'Lightly Active': 1.375,\n",
    "        'Moderately Active': 1.55,\n",
    "        'Very Active': 1.725,\n",
    "        'Extra Active': 1.9\n",
    "    }\n",
    "    \n",
    "    # Additional BMR adjustment for older adults\n",
    "    if age > 50:\n",
    "        age_adjustment_factor = 1 - ((age - 50) / 100)  # 1% decrease per year over 50\n",
    "        bmr *= age_adjustment_factor\n",
    "    \n",
    "    bmr *= activity_multipliers[activity_level]\n",
    "    \n",
    "    # Round BMR to the nearest multiple of 5 or 10\n",
    "    nearest_five = round(bmr / 5) * 5\n",
    "    nearest_ten = round(bmr / 10) * 10\n",
    "\n",
    "    # Choose the closest rounding\n",
    "    if abs(nearest_five - bmr) < abs(nearest_ten - bmr):\n",
    "        return nearest_five\n",
    "    else:\n",
    "        return nearest_ten\n",
    "\n",
    "    return bmr"
   ]
  },
  {
   "cell_type": "code",
   "execution_count": 59,
   "metadata": {},
   "outputs": [],
   "source": [
    "def generate_profile():\n",
    "    age = random.randint(18, 60)\n",
    "    \n",
    "    gender = np.random.choice([\"Male\", \"Female\"])\n",
    "\n",
    "    # Height assigned randomly in feet and inches\n",
    "    feet = random.randint(4, 6)\n",
    "    inches = random.randint(0, 11)\n",
    "    height_cm = round((feet * 30.48) + (inches * 2.54), 1)  # Convert to cm\n",
    "    # Weight assigned randomly in kg\n",
    "    weight_kg = round(random.uniform(45, 150))\n",
    "    # Convert height to meters and round\n",
    "    height_m = round(height_cm / 100, 2)\n",
    "\n",
    "    # assigning activity level\n",
    "    activity_levels = ['Sedentary', 'Lightly Active', 'Moderately Active', 'Very Active', 'Extra Active']\n",
    "    activity_level = np.random.choice(activity_levels)\n",
    "\n",
    "    # calculating BMI\n",
    "    bmi = round(weight_kg / (height_m ** 2), 1)\n",
    "    \n",
    "    # assigning HbA1C value\n",
    "    hbA1c = round(random.uniform(4, 9), 1)  # HbA1c range from 4% to 7%\n",
    "\n",
    "    # Calculate BMR\n",
    "    BMR = round(calculate_BMR(age, gender, weight_kg, height_m, activity_level), 2)\n",
    "\n",
    "    return {\n",
    "        'Age': age,\n",
    "        'Gender': gender,\n",
    "        'Height (m)': height_m,\n",
    "        'Weight (kg)': weight_kg,\n",
    "        'BMI': bmi,\n",
    "        'HbA1c Level': hbA1c,\n",
    "        'Activity Level': activity_level,\n",
    "        'BMR': BMR\n",
    "    }\n",
    "# Generate profiles\n",
    "profile = pd.DataFrame([generate_profile()])\n",
    "profile.to_csv(\"./Model 02 Dependencies/User Profile.csv\", index=False)\n"
   ]
  },
  {
   "cell_type": "code",
   "execution_count": 60,
   "metadata": {},
   "outputs": [
    {
     "name": "stdout",
     "output_type": "stream",
     "text": [
      "Predictions:\n",
      "------------\n",
      "Carbs%: 51.66%\n",
      "Fats%: 23.08%\n",
      "Proteins%: 27.36%\n"
     ]
    }
   ],
   "source": [
    "import pandas as pd\n",
    "import joblib\n",
    "\n",
    "# Load the trained pipeline\n",
    "base_path = \"./Model 01 Dependencies/\"\n",
    "pipeline = joblib.load(f'{base_path}Model 01 Pipeline.pkl')\n",
    "\n",
    "# Function to preprocess and predict\n",
    "def preprocess_and_predict(new_data):\n",
    "    # Predict using the pipeline\n",
    "    predictions = pipeline.predict(new_data)\n",
    "    return predictions\n",
    "\n",
    "# Example of using the prediction function\n",
    "new_data = profile\n",
    "predictions = preprocess_and_predict(new_data)\n",
    "\n",
    "# Printing predictions\n",
    "print(\"Predictions:\")\n",
    "print(\"------------\")\n",
    "print(f\"Carbs%: {predictions[0, 0]:.2f}%\")\n",
    "print(f\"Fats%: {predictions[0, 1]:.2f}%\")\n",
    "print(f\"Proteins%: {predictions[0, 2]:.2f}%\")"
   ]
  }
 ],
 "metadata": {
  "kernelspec": {
   "display_name": "Python 3",
   "language": "python",
   "name": "python3"
  },
  "language_info": {
   "codemirror_mode": {
    "name": "ipython",
    "version": 3
   },
   "file_extension": ".py",
   "mimetype": "text/x-python",
   "name": "python",
   "nbconvert_exporter": "python",
   "pygments_lexer": "ipython3",
   "version": "3.12.3"
  }
 },
 "nbformat": 4,
 "nbformat_minor": 2
}
